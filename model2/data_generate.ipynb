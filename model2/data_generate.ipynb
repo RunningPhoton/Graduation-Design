{
 "cells": [
  {
   "cell_type": "code",
   "execution_count": 23,
   "metadata": {},
   "outputs": [],
   "source": [
    "import re\n",
    "\n",
    "all_in = []\n",
    "all_out = []\n",
    "with open('anna.txt') as f:\n",
    "    for line in f:\n",
    "        in_txt = re.findall('[a-zA-Z]+', line)\n",
    "        for word in in_txt:\n",
    "            all_in.append(word.lower())\n",
    "    all_in = list(set(all_in))\n",
    "    for word in all_in:\n",
    "        all_out.append(''.join(sorted(word)))\n",
    "    \n",
    "with open('in.txt', 'w') as f:\n",
    "    for word in all_in:\n",
    "        f.write(word+'\\n')\n",
    "with open('out.txt', 'w') as f:\n",
    "    for word in all_out:\n",
    "        f.write(word+'\\n')\n",
    "            \n",
    "    "
   ]
  },
  {
   "cell_type": "code",
   "execution_count": null,
   "metadata": {},
   "outputs": [],
   "source": []
  },
  {
   "cell_type": "code",
   "execution_count": null,
   "metadata": {},
   "outputs": [],
   "source": []
  }
 ],
 "metadata": {
  "kernelspec": {
   "display_name": "Python 3",
   "language": "python",
   "name": "python3"
  },
  "language_info": {
   "codemirror_mode": {
    "name": "ipython",
    "version": 3
   },
   "file_extension": ".py",
   "mimetype": "text/x-python",
   "name": "python",
   "nbconvert_exporter": "python",
   "pygments_lexer": "ipython3",
   "version": "3.6.3"
  }
 },
 "nbformat": 4,
 "nbformat_minor": 2
}
